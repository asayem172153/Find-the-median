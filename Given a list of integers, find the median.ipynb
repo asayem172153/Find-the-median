{
  "nbformat": 4,
  "nbformat_minor": 0,
  "metadata": {
    "colab": {
      "provenance": []
    },
    "kernelspec": {
      "name": "python3",
      "display_name": "Python 3"
    },
    "language_info": {
      "name": "python"
    }
  },
  "cells": [
    {
      "cell_type": "code",
      "execution_count": 8,
      "metadata": {
        "colab": {
          "base_uri": "https://localhost:8080/"
        },
        "id": "qHlaK9LwWs6K",
        "outputId": "ca0a5ac0-58ed-4dd8-a852-ccf8fc8a48b5"
      },
      "outputs": [
        {
          "output_type": "stream",
          "name": "stdout",
          "text": [
            "Median 4.0\n"
          ]
        }
      ],
      "source": [
        "data = [7, 2, 5, 1, 9, 3]\n",
        "\n",
        "data = sorted(data)\n",
        "length = len(data)\n",
        "\n",
        "if length % 2 == 0:\n",
        "  median = (data[length//2] + data[length//2-1] ) / 2 # avg of mid, mid-1 data\n",
        "else:\n",
        "  median = data[length//2]\n",
        "\n",
        "print('Median',median)"
      ]
    },
    {
      "cell_type": "code",
      "source": [
        "10/2"
      ],
      "metadata": {
        "colab": {
          "base_uri": "https://localhost:8080/"
        },
        "id": "OkJcDb-4Xws2",
        "outputId": "2dab5bdc-816b-42e3-e78a-25e950861ce9"
      },
      "execution_count": 5,
      "outputs": [
        {
          "output_type": "execute_result",
          "data": {
            "text/plain": [
              "5.0"
            ]
          },
          "metadata": {},
          "execution_count": 5
        }
      ]
    }
  ]
}